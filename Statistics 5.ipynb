{
 "cells": [
  {
   "cell_type": "code",
   "execution_count": null,
   "id": "9ab16a2d-944a-4a7c-89c6-dfa657a47ba4",
   "metadata": {},
   "outputs": [],
   "source": [
    "\"\"\"Q.1\n",
    "Estimation Statistics involves the process of using sample data to make inferences about population parameters. It helps us draw conclusions about unknown aspects of a population based on observed data from a sample. Estimation involves two main concepts: point estimate and interval estimate.\n",
    "Point Estimate:\n",
    "A point estimate is a single value that is calculated from sample data and used to estimate a population parameter. It provides a \"best guess\" or a single value estimate of the parameter. \n",
    "For example, if you want to estimate the population mean based on a sample, the sample mean would serve as the point estimate of the population mean\n",
    "Interval Estimate:\n",
    "An interval estimate provides a range of values within which the population parameter is likely to fall, along with a level of confidence associated with that range. This range is called a confidence interval. Interval estimates take into account the variability in sample data and provide a sense of how precise the estimate is.\n",
    "For example, if you calculate a 95% confidence interval for the population mean, it means that if you were to repeat the sampling and interval estimation process many times, about 95% of those intervals would capture the true population mean."
   ]
  },
  {
   "cell_type": "code",
   "execution_count": 16,
   "id": "a5813122-4fc2-40f1-be3d-948f35e5b02f",
   "metadata": {
    "tags": []
   },
   "outputs": [
    {
     "name": "stdout",
     "output_type": "stream",
     "text": [
      "Estimated Population Mean 100\n"
     ]
    }
   ],
   "source": [
    "#Q.2\n",
    "def population_mean(sample_mean,sample_stddev): #define function\n",
    "    population_mean=sample_mean\n",
    "    return population_mean\n",
    "sample_mean=100     \n",
    "sample_stddev=20\n",
    "estimated_pop_mean=population_mean(sample_mean,sample_stddev) #estimating population mean using function call\n",
    "print(\"Estimated Population Mean\",estimated_pop_mean) #print estimated pop mean"
   ]
  },
  {
   "cell_type": "code",
   "execution_count": null,
   "id": "951a63e0-09a5-4b7e-9c23-e79a052f72e2",
   "metadata": {},
   "outputs": [],
   "source": [
    "\"\"\"Q.3\n",
    "Hypothesis testing is a fundamental concept in statistics used to make informed decisions about population parameters based on sample data. It's a structured process that involves formulating a hypothesis about a population parameter, collecting and analyzing sample data, and then determining whether the data provides enough evidence to either support or reject the hypothesis.\n",
    "Hypothesis testing is used to make objective and evidence-based decisions about population parameters, helping us draw meaningful conclusions from data and contributing to various fields of study and industries.\n",
    "\n",
    "Importance of Hypothesis Testing:\n",
    "1.Data-Driven Decision Making: Hypothesis testing provides a systematic framework for making decisions based on data rather than intuition or assumptions.\n",
    "2.Scientific Research: In scientific research, hypothesis testing allows researchers to validate or invalidate hypotheses and contribute to the advancement of knowledge.\n",
    "3.Quality Control: In industries, hypothesis testing helps ensure product quality by testing whether a process meets certain standards or specifications.\n",
    "4.Policy Making: Hypothesis testing plays a role in policy and decision making by providing evidence for or against certain policies or interventions.\n",
    "5.Medical and Pharmaceutical Fields: Hypothesis testing is crucial in clinical trials to determine the efficacy of new treatments or drugs.\n",
    "6.Business and Marketing: Hypothesis testing aids in making strategic business decisions and understanding consumer behavior.\n",
    "7.Academic Rigor: Hypothesis testing is a cornerstone of statistical analysis, adding rigor to academic research and empirical studies.\n"
   ]
  },
  {
   "cell_type": "code",
   "execution_count": null,
   "id": "cdfb8f77-b9a3-43fd-a3fe-ad30d0c22545",
   "metadata": {},
   "outputs": [],
   "source": [
    "\"\"\"Q.4\n",
    "Null hypothesis(H0): Average weight of male college students is <= average weight of female college students.\n",
    "Alternative Hypothesis (H1): The average weight of male college students is > the average weight of female college students."
   ]
  },
  {
   "cell_type": "code",
   "execution_count": 20,
   "id": "ceff3082-9073-4030-a487-446133add9ab",
   "metadata": {},
   "outputs": [
    {
     "name": "stdout",
     "output_type": "stream",
     "text": [
      "Reject Null Hypothesis:Average weight of male students is greater than female students\n"
     ]
    }
   ],
   "source": [
    "#Q.5\n",
    "import numpy as np\n",
    "from scipy import stats\n",
    "male=np.array([70,75,78,80,79,76])\n",
    "female=np.array([45,49,70,68,59,60])\n",
    "t_statistic,p_value=stats.ttest_ind(male,female)\n",
    "alpha=0.05\n",
    "if p_value<alpha:\n",
    "    print(\"Reject Null Hypothesis:Average weight of male students is greater than female students\")\n",
    "else:\n",
    "    print(\"Fail to reject null hypothesis: No significant difference in average weights\")"
   ]
  },
  {
   "cell_type": "code",
   "execution_count": null,
   "id": "010563c6-3480-4a53-bdab-df628b592cab",
   "metadata": {},
   "outputs": [],
   "source": [
    "\"\"\"Q.6 \n",
    "A null hypothesis (H0) and an alternative hypothesis (H1) are fundamental components of hypothesis testing. They represent opposing statements about a population parameter or a phenomenon that we want to investigate using sample data. The null hypothesis typically represents a default assumption or a statement of no effect, while the alternative hypothesis proposes a specific effect, relationship, or difference.\n",
    "\n",
    "Here are some examples to illustrate the concepts of null and alternative hypotheses:\n",
    "Example 1: Coin Toss\n",
    "Null Hypothesis (H0): The coin is fair, and the probability of getting heads is 0.5.\n",
    "Alternative Hypothesis (Ha): The coin is not fair, and the probability of getting heads is not 0.5.\n",
    "In this example, we're testing whether a coin is fair (H0) or biased (H1) in terms of its probability of landing heads.\n",
    "\n",
    "Example 2: Drug Efficacy\n",
    "Null Hypothesis (H0): The new drug has no effect on lowering blood pressure.\n",
    "Alternative Hypothesis (Ha): The new drug has an effect on lowering blood pressure.\n",
    "In this case, we're testing whether the new drug has an effect (H1) on blood pressure compared to no effect (H0)."
   ]
  },
  {
   "cell_type": "code",
   "execution_count": null,
   "id": "f3719311-520b-4a37-a070-add65018a2e7",
   "metadata": {},
   "outputs": [],
   "source": [
    "\"\"\"Q.7\n",
    "Hypothesis testing involves a systematic process for making decisions about population parameters based on sample data. The following are the general steps involved in hypothesis testing:\n",
    "\n",
    "1.State the Hypotheses:\n",
    "Null Hypothesis (H0): State the default assumption or the statement of no effect, relationship, or difference.\n",
    "Alternative Hypothesis (Ha): State the specific effect, relationship, or difference that you're testing for.\n",
    "2.Select a Significance Level (Alpha):\n",
    "Choose a significance level (alpha), often denoted by α. This represents the threshold for determining when to reject the null hypothesis. Common significance levels are 0.05 (5%) and 0.01 (1%).\n",
    "3.Collect and Analyze Data:\n",
    "Gather sample data relevant to the hypothesis being tested. Perform appropriate statistical analyses to summarize the data and calculate relevant statistics.\n",
    "4.Calculate Test Statistic:\n",
    "Compute a test statistic that measures the difference between the observed sample data and what would be expected under the null hypothesis. The choice of test statistic depends on the type of data and the hypothesis being tested.\n",
    "5.Determine the P-Value:\n",
    "Calculate the p-value, which is the probability of observing the data (or more extreme data) under the assumption that the null hypothesis is true. The p-value quantifies the strength of evidence against the null hypothesis.\n",
    "6.Compare P-Value and Alpha:\n",
    "Compare the calculated p-value to the chosen significance level (alpha). If p-value ≤ alpha, you have enough evidence to reject the null hypothesis. If p-value > alpha, you fail to reject the null hypothesis.\n",
    "7.Make a Decision:\n",
    "If p-value ≤ alpha: Reject the null hypothesis in favor of the alternative hypothesis.\n",
    "If p-value > alpha: Fail to reject the null hypothesis.\n",
    "8.Draw Conclusion:\n",
    "Based on the decision made in the previous step, draw a conclusion about the hypothesis being tested. Be cautious not to interpret the result as proving a hypothesis true; it only provides evidence for or against it.\n",
    "9.State Practical Conclusion:\n",
    "Translate the statistical conclusion into practical terms relevant to the context of the study. Discuss the implications of the results and their significance.\n",
    "10.Consider Limitations and Assumptions:\n",
    "Reflect on the assumptions made during the hypothesis testing process, the quality of the data, and potential sources of bias or error."
   ]
  },
  {
   "cell_type": "code",
   "execution_count": null,
   "id": "7a049602-6540-46f0-b454-edac4dfc6a79",
   "metadata": {},
   "outputs": [],
   "source": [
    "\"\"\"Q.8\n",
    "The p-value (short for probability value) is a crucial concept in hypothesis testing that quantifies the strength of evidence against the null hypothesis. It measures the probability of observing the data, or more extreme data, under the assumption that the null hypothesis is true. In other words, the p-value tells you how likely it is to observe the results you obtained if there were no effect, relationship, or difference in the population.\n",
    "\n",
    "Significance of the p-value in Hypothesis Testing:\n",
    "1.Decision Rule: The p-value provides a basis for making a decision about the null hypothesis. If the p-value is small (typically smaller than the chosen significance level, α), it suggests that the observed data is unlikely to have occurred if the null hypothesis were true. This leads to the rejection of the null hypothesis in favor of the alternative hypothesis.\n",
    "2.Quantification of Evidence: The p-value quantifies the strength of evidence against the null hypothesis. A smaller p-value indicates stronger evidence against the null hypothesis, whereas a larger p-value suggests weaker evidence.\n",
    "3.Threshold for Decision: The p-value serves as a criterion for decision-making. If the p-value is smaller than the significance level (α), it signals that the result is statistically significant, and you may reject the null hypothesis. If the p-value is larger than α, you fail to reject the null hypothesis.\n",
    "4.Level of Confidence: The p-value informs you about how confident you can be in your decision. A small p-value indicates that the observed data is inconsistent with the null hypothesis and provides high confidence in rejecting it.\n",
    "5.Interpretation: In practical terms, the p-value helps you interpret the outcome of the hypothesis test. For example, if the p-value is 0.03 (3%), it suggests that there's a 3% chance of observing the data or more extreme data if the null hypothesis were true.\n",
    "6.Comparison with Significance Level: By comparing the p-value to the chosen significance level (α), you determine whether the observed result is statistically significant. If p-value ≤ α, you can conclude that the result is statistically significant and reject the null hypothesis.\n",
    "7.Inconclusive Results: If the p-value is not smaller than α, it means the evidence in the data is not strong enough to reject the null hypothesis. This doesn't prove the null hypothesis is true; it simply suggests that you don't have enough evidence to support the alternative hypothesis with the given data."
   ]
  },
  {
   "cell_type": "code",
   "execution_count": 28,
   "id": "ea653b61-f5fe-4923-928d-2cf00b9c251b",
   "metadata": {},
   "outputs": [
    {
     "data": {
      "image/png": "[encoded data removed]",
      "text/plain": [
       "<Figure size 640x480 with 1 Axes>"
      ]
     },
     "metadata": {},
     "output_type": "display_data"
    }
   ],
   "source": [
    "#Q.9\n",
    "import numpy as np\n",
    "import matplotlib.pyplot as plt\n",
    "from scipy.stats import t\n",
    "dof=10\n",
    "x=np.linspace(-7,8,100)\n",
    "t_pdf=t.pdf(x,dof)\n",
    "plt.plot(x,t_pdf)\n",
    "plt.xlabel('x')\n",
    "plt.ylabel('Probability density')\n",
    "plt.title(\"Student's t-Distribution plot\")\n",
    "plt.grid()\n",
    "plt.show()"
   ]
  },
  {
   "cell_type": "code",
   "execution_count": 60,
   "id": "95af2b3a-2ade-4fb8-a62d-2c0ac2379125",
   "metadata": {},
   "outputs": [
    {
     "name": "stdout",
     "output_type": "stream",
     "text": [
      "Reject Null Hypothesis:Population means are not equal\n"
     ]
    }
   ],
   "source": [
    "#Q.10\n",
    "import numpy as np\n",
    "from scipy import stats\n",
    "sample1=np.random.normal(loc=50,scale=10,size=30) # Generate two random samples of equal size\n",
    "sample2=np.random.normal(loc=55,scale=12,size=30)\n",
    "t_statistic,p_value=stats.ttest_ind(sample1,sample2) # Perform two-sample t-test\n",
    "alpha=0.05  # Define significance level\n",
    "if p_value<alpha: # Compare p-value to alpha to make a decision\n",
    "    print(\"Reject Null Hypothesis:Population means are not equal\")\n",
    "else:\n",
    "    print(\"Fail to reject Null Hypothesis:Population means are equal\")"
   ]
  },
  {
   "cell_type": "code",
   "execution_count": null,
   "id": "54541a56-cd7e-44e4-a858-12e5c1382d7b",
   "metadata": {},
   "outputs": [],
   "source": [
    "\"\"\"Q.11\n",
    "The Student's t-distribution, often simply referred to as the t-distribution, is a probability distribution that is used in statistical inference for estimating population parameters when the sample size is small or when the population variance is unknown. It is a fundamental concept in statistics and is closely related to the concept of the t-test.\n",
    "The t-distribution arises when you are working with small samples and you need to make inferences about the population mean. It takes into account the extra uncertainty introduced by estimating the population variance from the sample variance. The t-distribution is similar in shape to the normal distribution (bell-shaped curve), but its tails are thicker, which reflects the increased uncertainty associated with small sample sizes.\n",
    "\n",
    "We  might use the t-distribution in the following scenarios:\n",
    "1.When Sample Size is Small: The t-distribution is particularly useful when the sample size is small (typically less than 30) and the population standard deviation is unknown. In this case, using the normal distribution to make inferences about the population mean would not be appropriate because the uncertainty introduced by estimating the population variance from the sample would not be accounted for accurately.\n",
    "2.Estimating Confidence Intervals: When estimating a confidence interval for the population mean based on a small sample, the t-distribution is used. Confidence intervals provide a range of values within which the true population parameter is likely to fall.\n",
    "3.Conducting t-Tests: The t-distribution is essential when performing t-tests. A t-test is used to compare means of two groups or to test whether a sample mean differs significantly from a hypothesized population mean.\n",
    "4.When Data is Normally Distributed: The t-distribution is most appropriate when the underlying data distribution is approximately normal. If the data is highly skewed or exhibits significant outliers, the assumptions of the t-distribution might be violated."
   ]
  },
  {
   "cell_type": "code",
   "execution_count": null,
   "id": "eb1c8533-782b-4087-877c-35ad3e246441",
   "metadata": {},
   "outputs": [],
   "source": [
    "\"\"\"Q.12\n",
    "The t-statistic (also known as the t-score) is a numerical measure used in hypothesis testing and confidence interval calculations when working with small sample sizes or when the population standard deviation is unknown. It quantifies the difference between a sample statistic (such as the sample mean) and a hypothesized population parameter (such as the population mean) in terms of the standard error of the sample statistic.\n",
    "The formula for the t-statistic depends on the context, but for testing a sample mean against a hypothesized population mean, the formula is as follows:\n",
    "t = x − μ\n",
    "   ------\n",
    "   s/sqrt(n)\n",
    "Where:\n",
    "μ is population mean.\n",
    "x is the sample mean.\n",
    "s is the sample standard deviation.\n",
    "n is the sample size."
   ]
  },
  {
   "cell_type": "code",
   "execution_count": 8,
   "id": "8b839bf8-2f38-42a5-8435-a0e48ba27596",
   "metadata": {},
   "outputs": [
    {
     "name": "stdout",
     "output_type": "stream",
     "text": [
      "Population mean at 95% confidence interval\n",
      "Lower bound $ 485.79015724388137\n",
      "Upper bound $ 514.2098427561186\n"
     ]
    }
   ],
   "source": [
    "#Q.13\n",
    "import scipy.stats as stats\n",
    "sample_mean=500    # Given sample data\n",
    "sample_size=50\n",
    "confidence_interval=0.95\n",
    "sample_stddev=50\n",
    "dof=sample_size-1  # Calculate the degrees of freedom\n",
    "t_score=stats.t.ppf(1-(1-confidence_interval)/2,dof) # Calculate the t-score using the t-distribution\n",
    "margin_error=t_score*(sample_stddev/math.sqrt(sample_size))\n",
    "lower_bound=sample_mean-margin_error  # Calculate the confidence interval\n",
    "upper_bound=sample_mean+margin_error\n",
    "print(\"Population mean at 95% confidence interval\")\n",
    "print(\"Lower bound $\",lower_bound)\n",
    "print(\"Upper bound $\",upper_bound)"
   ]
  },
  {
   "cell_type": "code",
   "execution_count": 73,
   "id": "03d292d3-8b23-4c1f-9b78-ce14ffcdd5d8",
   "metadata": {
    "tags": []
   },
   "outputs": [
    {
     "name": "stdout",
     "output_type": "stream",
     "text": [
      "Reject Null Hypothesis:New drug will not decrease blood pressure by 10mmHg\n"
     ]
    }
   ],
   "source": [
    "#Q.14\n",
    "#Null Hypothesis:New drug will decrease blood pressure by 10 mmHg\n",
    "#Alternate Hypothesis:New drug will not decrease blood pressure by 10 mmHg\n",
    "import scipy.stats as stats\n",
    "hypothesized_mean=10   #Given data\n",
    "sample_size=100\n",
    "sample_mean=8\n",
    "sample_stddev=3\n",
    "significance_level=0.05\n",
    "z_score=((sample_mean-hypothesized_mean)/(sample_stddev/(sample_size**0.5))) #calculate z score\n",
    "critical_z_score_positive = stats.norm.ppf(1 - (significance_level / 2))     #calculate critical z scores(+ve and -ve) to compare with z_score\n",
    "critical_z_score_negative = -critical_z_score_positive\n",
    "if z_score < critical_z_score_negative or z_score > critical_z_score_positive:\n",
    "    print(\"Reject Null Hypothesis:New drug will not decrease blood pressure by 10mmHg\")\n",
    "else:\n",
    "    print(\"Fail to reject Null Hypothesis:New drug will decrease the blood pressure by 10mmHg\")"
   ]
  },
  {
   "cell_type": "code",
   "execution_count": 71,
   "id": "0cd01079-f55b-4a11-b15a-bc46a2e64bf7",
   "metadata": {
    "tags": []
   },
   "outputs": [
    {
     "name": "stdout",
     "output_type": "stream",
     "text": [
      "Fail to reject Null Hypothesis:Mean weight is greater than or equal to 5 pounds\n",
      "critical z scores: -2.5758293035489004 2.5758293035489004\n",
      "z_score: -2.0000000000000018\n"
     ]
    }
   ],
   "source": [
    "#Q.15\n",
    "population_mean=5     #Given data\n",
    "population_stddev=0.5\n",
    "sample_size=25\n",
    "sample_mean=4.8\n",
    "significance_level=0.01\n",
    "z_score=((sample_mean-population_mean)/(population_stddev/(sample_size**0.5))) # Calculate the z-score\n",
    "critical_z_score_positive=stats.norm.ppf(1-(significance_level/2)) # Calculate the critical z-scores for a two-tailed test\n",
    "critical_z_score_negative=-critical_z_score_positive\n",
    "if z_score<critical_z_score_negative or z_score>critical_z_score_positive: # Compare the z-score with the critical values\n",
    "    print(\"Reject Null Hypothesis: Mean weight is less than 5 pounds\")\n",
    "else:\n",
    "   print(\"Fail to reject Null Hypothesis:Mean weight is greater than or equal to 5 pounds\")   \n",
    "print(\"critical z scores:\", critical_z_score_negative, critical_z_score_positive)\n",
    "print(\"z_score:\",z_score)"
   ]
  },
  {
   "cell_type": "code",
   "execution_count": 74,
   "id": "9c59ecf3-7033-4f42-ad6c-e0360288e64f",
   "metadata": {
    "tags": []
   },
   "outputs": [
    {
     "name": "stdout",
     "output_type": "stream",
     "text": [
      "Fail to reject Null Hypothesis:Poulation means of the two groups are equal.\n",
      "p value 0.02312301341372599\n",
      "t statistic 2.323967729699292\n"
     ]
    }
   ],
   "source": [
    "#Q.16\n",
    "import numpy as np\n",
    "n1=30          # Given data for Group 1\n",
    "x1_bar=80\n",
    "s1=10\n",
    "n2=40          # Given data for Group 2\n",
    "x2_bar=75\n",
    "s2=8\n",
    "significance_level=0.01\n",
    "#Null Hypothesis:Poulation means of the two groups are equal.\n",
    "#Alternative Hypothesis:Population means of the two groups are not equal.\n",
    "t_statistic,p_value=stats.ttest_ind_from_stats(x1_bar,s1,n1,x2_bar,s2,n2) # Perform the two-sample t-test\n",
    "if p_value<significance_level: # Compare the p-value to the significance level\n",
    "    print(\"Reject Null Hypothesis:Population means of the two groups are not equal.\")\n",
    "else:\n",
    "    print(\"Fail to reject Null Hypothesis:Poulation means of the two groups are equal.\")\n",
    "print(\"p value\",p_value)\n",
    "print(\"t statistic\",t_statistic)"
   ]
  },
  {
   "cell_type": "code",
   "execution_count": 62,
   "id": "1e2c88c7-4d59-442b-9ca9-23e0e087ad22",
   "metadata": {
    "tags": []
   },
   "outputs": [
    {
     "name": "stdout",
     "output_type": "stream",
     "text": [
      "Population mean at 99% confidence interval\n",
      "Lower bound  3.4314963358572577\n",
      "Upper bound  4.568503664142742\n"
     ]
    }
   ],
   "source": [
    "#Q.17\n",
    "sample_size=50\n",
    "sample_mean=4\n",
    "sample_stddev=1.5\n",
    "confidence_interval=0.99\n",
    "dof=sample_size-1  # Calculate the degrees of freedom\n",
    "t_score=stats.t.ppf(1-(1-confidence_interval)/2,dof) # Calculate the t-score using the t-distribution\n",
    "margin_error=t_score*(sample_stddev/math.sqrt(sample_size))\n",
    "lower_bound=sample_mean-margin_error  # Calculate the confidence interval\n",
    "upper_bound=sample_mean+margin_error\n",
    "print(\"Population mean at 99% confidence interval\") \n",
    "print(\"Lower bound \",lower_bound)\n",
    "print(\"Upper bound \",upper_bound)"
   ]
  },
  {
   "cell_type": "code",
   "execution_count": null,
   "id": "a76c5437-27bd-4ef3-8dc5-8a8f4cd2e3fd",
   "metadata": {},
   "outputs": [],
   "source": []
  }
 ],
 "metadata": {
  "kernelspec": {
   "display_name": "Python 3 (ipykernel)",
   "language": "python",
   "name": "python3"
  },
  "language_info": {
   "codemirror_mode": {
    "name": "ipython",
    "version": 3
   },
   "file_extension": ".py",
   "mimetype": "text/x-python",
   "name": "python",
   "nbconvert_exporter": "python",
   "pygments_lexer": "ipython3",
   "version": "3.11.3"
  }
 },
 "nbformat": 4,
 "nbformat_minor": 5
}
